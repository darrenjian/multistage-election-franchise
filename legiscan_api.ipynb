{
 "cells": [
  {
   "cell_type": "code",
   "execution_count": null,
   "metadata": {},
   "outputs": [],
   "source": [
    "import csv\n",
    "import re\n",
    "import requests\n",
    "import numpy as np\n",
    "import pandas as pd\n",
    "from sklearn.feature_extraction.text import CountVectorizer, TfidfTransformer \n",
    "from sklearn.feature_extraction.text import TfidfVectorizer\n",
    "from tqdm.notebook import tqdm"
   ]
  },
  {
   "cell_type": "markdown",
   "metadata": {},
   "source": [
    "## Query the API for bills with _election_ or _vote_ in the title"
   ]
  },
  {
   "cell_type": "code",
   "execution_count": null,
   "metadata": {},
   "outputs": [],
   "source": [
    "# API key obtained via https://legiscan.com/user/register under My Account\n",
    "local_file = 'legiscan_auth.txt'\n",
    "with open(local_file) as txtfile:\n",
    "    my_key = txtfile.read().strip('\\n')\n",
    "host = 'https://api.legiscan.com/?key=' + my_key"
   ]
  },
  {
   "cell_type": "code",
   "execution_count": null,
   "metadata": {},
   "outputs": [],
   "source": [
    "# Search for bills with relevant content\n",
    "# Year where 1=all, 2=current, 3=recent, 4=prior, >1900=exact [Default: 2]\n",
    "method = \"search\"\n",
    "params = \"state=ALL&year=3&query=type%3AB+AND+(election)\"\n",
    "params = params + \"+OR+(vote)\""
   ]
  },
  {
   "cell_type": "code",
   "execution_count": null,
   "metadata": {},
   "outputs": [],
   "source": [
    "url = host + \"&op=\" + method + \"&\" + params\n",
    "response = requests.get(url)\n",
    "print(response)\n",
    "data = response.json().get(\"searchresult\")\n",
    "page_total = data[\"summary\"][\"page_total\"]\n",
    "print(\"Processing page 1 of \" + str(page_total))\n",
    "data.pop(\"summary\", None)\n",
    "bills = [data[bill] for bill in data]"
   ]
  },
  {
   "cell_type": "code",
   "execution_count": null,
   "metadata": {},
   "outputs": [],
   "source": [
    "# *bills is used to get each element and create a list with atomic elements\n",
    "if page_total > 1:\n",
    "    for i in tqdm(range(2, page_total + 1)):\n",
    "        # print(\"Processing page \" + str(i) + \" of \" + str(page_total))\n",
    "        response = requests.get(url + \"&page=\" + str(i))\n",
    "        data = response.json().get(\"searchresult\")\n",
    "        data.pop(\"summary\", None)\n",
    "        bills = [*bills, *[data[bill] for bill in data]]\n",
    "\n",
    "print(\"Query results added: \" + str(len(bills)))"
   ]
  },
  {
   "cell_type": "code",
   "execution_count": null,
   "metadata": {},
   "outputs": [],
   "source": [
    "bill_query = pd.DataFrame(bills)\n",
    "bill_query.head(2)"
   ]
  },
  {
   "cell_type": "markdown",
   "metadata": {},
   "source": [
    "## Filter out irrelevant results"
   ]
  },
  {
   "cell_type": "code",
   "execution_count": null,
   "metadata": {},
   "outputs": [],
   "source": [
    "# filter out low relevance (less than 80)\n",
    "top_bills = bill_query[bill_query['relevance']>=80].copy()"
   ]
  },
  {
   "cell_type": "code",
   "execution_count": null,
   "metadata": {},
   "outputs": [],
   "source": [
    "# examine vocabulary for bill titles\n",
    "titles = top_bills['title']\n",
    "\n",
    "vectorizer = CountVectorizer(stop_words='english', min_df=50)\n",
    "dtm = vectorizer.fit_transform(titles)"
   ]
  },
  {
   "cell_type": "code",
   "execution_count": null,
   "metadata": {},
   "outputs": [],
   "source": [
    "vocab = vectorizer.get_feature_names()"
   ]
  },
  {
   "cell_type": "code",
   "execution_count": null,
   "metadata": {},
   "outputs": [],
   "source": [
    "with open('bill_title_vocab.csv', 'w') as csvfile:\n",
    "    writer = csv.writer(csvfile)\n",
    "    writer.writerows(np.array(vocab)[:, np.newaxis])"
   ]
  },
  {
   "cell_type": "code",
   "execution_count": null,
   "metadata": {},
   "outputs": [],
   "source": [
    "# get a subset of terms to look for after manually reviewing bill_title_vocab.csv\n",
    "terms = pd.read_csv('bill_title_vocab_selection.csv')\n",
    "terms = list(terms[terms['keep']==1]['term'])\n",
    "terms"
   ]
  },
  {
   "cell_type": "code",
   "execution_count": null,
   "metadata": {},
   "outputs": [],
   "source": [
    "def get_keywords(keywords, source):\n",
    "    matches = [k for k in keywords if k in source.lower()]\n",
    "    return matches\n",
    "\n",
    "def count_keywords(keywords, source):\n",
    "    matches = [k for k in keywords if k in source.lower()]\n",
    "    return len(matches)"
   ]
  },
  {
   "cell_type": "code",
   "execution_count": null,
   "metadata": {},
   "outputs": [],
   "source": [
    "# test functions\n",
    "mystring = 'here is sentence with primary voters'\n",
    "print(get_keywords(terms, mystring))\n",
    "print(count_keywords(terms, mystring))"
   ]
  },
  {
   "cell_type": "code",
   "execution_count": null,
   "metadata": {},
   "outputs": [],
   "source": [
    "top_bills['keywords'] = top_bills['title'].apply(lambda x: count_keywords(terms, x))\n",
    "top_bills = top_bills[top_bills['keywords']>0].copy()\n",
    "len(top_bills)"
   ]
  },
  {
   "cell_type": "code",
   "execution_count": null,
   "metadata": {},
   "outputs": [],
   "source": [
    "top_bills.to_csv('legiscan_query.csv', index=False)"
   ]
  },
  {
   "cell_type": "markdown",
   "metadata": {},
   "source": [
    "## Query the API for additional details about each bill"
   ]
  },
  {
   "cell_type": "code",
   "execution_count": null,
   "metadata": {},
   "outputs": [],
   "source": [
    "def sorter(collection, billNumber):\n",
    "    '''\n",
    "    Returns the bill information that corresponds to the oldest action date.\n",
    "    If appropriation or budget is found in the title, return None.\n",
    "    list,\n",
    "    '''\n",
    "    temp = []\n",
    "    for element in collection:\n",
    "        if billNumber == element['bill_number']:\n",
    "            temp.append(element)\n",
    "    temp = sorted(temp, key=lambda x: x['last_action_date'])\n",
    "    pat1 =  re.compile(\"[Aa]ppropriation|[Bb]udget\")\n",
    "    oldest = temp[0]\n",
    "    title = oldest['title']\n",
    "    matches = pat1.findall(str(title))\n",
    "    if len(matches) > 0:\n",
    "        return None\n",
    "    return oldest"
   ]
  },
  {
   "cell_type": "code",
   "execution_count": null,
   "metadata": {},
   "outputs": [],
   "source": [
    "def get_extension(file_path):\n",
    "    \"\"\"\n",
    "    Determines the file type of the document from path extension\n",
    "    str\n",
    "    \"\"\"\n",
    "    i = -1  # start at the end of the filename\n",
    "    while i > -len(file_path):\n",
    "        if file_path[i] == '.':\n",
    "            break  # stop when you get to a period\n",
    "        else:\n",
    "            i -= 1  # i = i - 1\n",
    "    ext = file_path[i+1:]\n",
    "    if len(ext) > 4:\n",
    "        return \"other\"\n",
    "    else:\n",
    "        return ext"
   ]
  },
  {
   "cell_type": "code",
   "execution_count": null,
   "metadata": {
    "scrolled": false
   },
   "outputs": [],
   "source": [
    "sourcefile = 'legiscan_query.csv'\n",
    "fieldnames = ['relevance', 'state', 'bill_number', 'bill_id', 'change_hash', 'url', 'text_url', 'research_url',\n",
    "              'last_action_date', 'last_action', 'title', 'keywords']\n",
    "addfields = ['body', 'session_name', 'year_start', 'sponsors', 'votes', 'text_url', 'state_link', 'type', 'format']\n",
    "destfile = 'legiscan_query_detailed.csv'\n",
    "destnames = [*fieldnames, *addfields] \n",
    "\n",
    "collec = []\n",
    "billNum = set()\n",
    "\n",
    "# Get list of unique bill ids\n",
    "with open(sourcefile, 'r') as infile, open(destfile, 'w', newline='') as outfile:\n",
    "    reader = csv.DictReader(infile, fieldnames)\n",
    "    next(reader, None)  \n",
    "    \n",
    "    writer = csv.DictWriter(outfile, destnames)\n",
    "    writer.writeheader()\n",
    "    \n",
    "    for row in reader:\n",
    "        collec.append(row)\n",
    "        billNum.add(row['bill_number'])   \n",
    "    \n",
    "    billNum = list(billNum)\n",
    "    \n",
    "    for num in tqdm(billNum):\n",
    "        billInfo = sorter(collec, num)\n",
    "        print(num)\n",
    "        if billInfo == None:\n",
    "            continue\n",
    "        bill_id = billInfo[\"bill_id\"]  \n",
    "        url = host + \"&op=getBill&id=\" + str(bill_id)\n",
    "        response = requests.get(url)\n",
    "        bill = response.json().get(\"bill\")\n",
    "        \n",
    "        if bill == None:\n",
    "            continue\n",
    "        \n",
    "        billInfo[\"body\"] = bill[\"body\"]\n",
    "        billInfo[\"session_name\"] = bill[\"session\"][\"session_name\"]\n",
    "        billInfo[\"year_start\"] = bill[\"session\"][\"year_start\"]\n",
    "\n",
    "        billInfo[\"sponsors\"] = str([p.get(\"people_id\") for p in bill[\n",
    "                                \"sponsors\"]])\n",
    "        billInfo[\"votes\"] = str([(v.get(\"date\"), v.get(\"passed\"),\n",
    "                           v.get(\"chamber\")) for v in bill[\"votes\"]])\n",
    "        \n",
    "        for i in range(0, len(bill[\"texts\"])):\n",
    "            billInfo[\"text_url\"] = bill[\"texts\"][i][\"url\"]\n",
    "            billInfo[\"state_link\"] = bill[\"texts\"][i][\"state_link\"]\n",
    "            billInfo[\"type\"] = bill[\"texts\"][i][\"type\"]\n",
    "            billInfo[\"format\"] = get_extension(billInfo[\"state_link\"])\n",
    "            \n",
    "        writer.writerow(billInfo)"
   ]
  }
 ],
 "metadata": {
  "kernelspec": {
   "display_name": "Python 3",
   "language": "python",
   "name": "python3"
  },
  "language_info": {
   "codemirror_mode": {
    "name": "ipython",
    "version": 3
   },
   "file_extension": ".py",
   "mimetype": "text/x-python",
   "name": "python",
   "nbconvert_exporter": "python",
   "pygments_lexer": "ipython3",
   "version": "3.6.8"
  }
 },
 "nbformat": 4,
 "nbformat_minor": 2
}
